{
 "cells": [
  {
   "cell_type": "markdown",
   "id": "7ad139d1",
   "metadata": {},
   "source": [
    "# Predictive maintananace for hydraulic simulation\n",
    "## Descripton of the data\n",
    "Relevant Information:\n",
    "The data set was experimentally obtained with a hydraulic test rig. This test rig consists of a primary working and a secondary cooling-filtration circuit which are connected via the oil tank [1], [2]. The system cyclically repeats constant load cycles (duration 60 seconds) and measures process values such as pressures, volume flows and temperatures while the condition of four hydraulic components (cooler, valve, pump and accumulator) is quantitatively varied. \n",
    "\n",
    "Sensor\t\tPhysical quantity\t\tUnit\t\tSampling rate\n",
    "PS1\t\tPressure\t\t\tbar\t\t100 Hz\n",
    "PS2\t\tPressure\t\t\tbar\t\t100 Hz\n",
    "PS3\t\tPressure\t\t\tbar\t\t100 Hz\n",
    "PS4\t\tPressure\t\t\tbar\t\t100 Hz\n",
    "PS5\t\tPressure\t\t\tbar\t\t100 Hz\n",
    "EPS1\t\tMotor power\t\t\tW\t\t100 Hz\n",
    "FS1\t\tVolume flow\t\t\tl/min\t\t10 Hz\n",
    "FS2\t\tVolume flow\t\t\tl/min\t\t10 Hz\n",
    "TS1\t\tTemperature\t\t\t?C\t\t1 Hz\n",
    "TS2\t\tTemperature\t\t\t?C\t\t1 Hz\n",
    "TS3\t\tTemperature\t\t\t?C\t\t1 Hz\n",
    "TS4\t\tTemperature\t\t\t?C\t\t1 Hz\n",
    "VS1\t\tVibration\t\t\tmm/s\t\t1 Hz\n",
    "CE\t\tCooling efficiency (virtual)\t%\t\t1 Hz\n",
    "CP\t\tCooling power (virtual)\t\tkW\t\t1 Hz\n",
    "SE\t\tEfficiency factor\t\t%\t\t1 Hz\n",
    "\n",
    "The target condition values are cycle-wise annotated in ?profile.txt? (tab-delimited). As before, the row number represents the cycle number. The columns are\n",
    "\n",
    "1: Cooler condition / %:\n",
    "\t3: close to total failure\n",
    "\t20: reduced effifiency\n",
    "\t100: full efficiency\n",
    "\n",
    "2: Valve condition / %:\n",
    "\t100: optimal switching behavior\n",
    "\t90: small lag\n",
    "\t80: severe lag\n",
    "\t73: close to total failure\n",
    "\n",
    "3: Internal pump leakage:\n",
    "\t0: no leakage\n",
    "\t1: weak leakage\n",
    "\t2: severe leakage\n",
    "\n",
    "4: Hydraulic accumulator / bar:\n",
    "\t130: optimal pressure\n",
    "\t115: slightly reduced pressure\n",
    "\t100: severely reduced pressure\n",
    "\t90: close to total failure\n",
    "\n",
    "5: stable flag:\n",
    "\t0: conditions were stable\n",
    "\t1: static conditions might not have been reached yet\n"
   ]
  },
  {
   "cell_type": "markdown",
   "metadata": {},
   "source": [
    "### Tasks\n",
    "* ~~ load the first data to data frame ~~\n",
    "* load data in vectors\n",
    "* fill the 60hz with intepolation\n",
    "* add the data in one table  \n",
    "* plot the the data in different views\n"
   ]
  },
  {
   "cell_type": "code",
   "execution_count": 4,
   "id": "bc8d4101",
   "metadata": {},
   "outputs": [
    {
     "data": {
      "text/plain": [
       "pandas.core.frame.DataFrame"
      ]
     },
     "execution_count": 4,
     "metadata": {},
     "output_type": "execute_result"
    }
   ],
   "source": [
    "import pandas as pd\n",
    "ce = pd.read_csv('pm_hydraulics/ce.txt',delimiter='\\t')\n",
    "# print(ce)\n",
    "type(ce)"
   ]
  }
 ],
 "metadata": {
  "interpreter": {
   "hash": "aee8b7b246df8f9039afb4144a1f6fd8d2ca17a180786b69acc140d282b71a49"
  },
  "kernelspec": {
   "display_name": "Python 3.9.5 64-bit",
   "name": "python3"
  },
  "language_info": {
   "codemirror_mode": {
    "name": "ipython",
    "version": 3
   },
   "file_extension": ".py",
   "mimetype": "text/x-python",
   "name": "python",
   "nbconvert_exporter": "python",
   "pygments_lexer": "ipython3",
   "version": "3.9.5"
  }
 },
 "nbformat": 4,
 "nbformat_minor": 5
}
